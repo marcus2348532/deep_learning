{
  "nbformat": 4,
  "nbformat_minor": 0,
  "metadata": {
    "colab": {
      "provenance": [],
      "gpuType": "T4",
      "include_colab_link": true
    },
    "kernelspec": {
      "name": "python3",
      "display_name": "Python 3"
    },
    "language_info": {
      "name": "python"
    },
    "accelerator": "GPU"
  },
  "cells": [
    {
      "cell_type": "markdown",
      "metadata": {
        "id": "view-in-github",
        "colab_type": "text"
      },
      "source": [
        "<a href=\"https://colab.research.google.com/github/marcus2348532/deep_learning/blob/main/2348532_lab1.ipynb\" target=\"_parent\"><img src=\"https://colab.research.google.com/assets/colab-badge.svg\" alt=\"Open In Colab\"/></a>"
      ]
    },
    {
      "cell_type": "code",
      "execution_count": null,
      "metadata": {
        "colab": {
          "base_uri": "https://localhost:8080/"
        },
        "id": "XUUUMsARFsQV",
        "outputId": "2bcd04a8-6ca9-431e-9bcf-43d27d61943a"
      },
      "outputs": [
        {
          "output_type": "stream",
          "name": "stdout",
          "text": [
            "Fri Feb 16 04:11:09 2024       \n",
            "+---------------------------------------------------------------------------------------+\n",
            "| NVIDIA-SMI 535.104.05             Driver Version: 535.104.05   CUDA Version: 12.2     |\n",
            "|-----------------------------------------+----------------------+----------------------+\n",
            "| GPU  Name                 Persistence-M | Bus-Id        Disp.A | Volatile Uncorr. ECC |\n",
            "| Fan  Temp   Perf          Pwr:Usage/Cap |         Memory-Usage | GPU-Util  Compute M. |\n",
            "|                                         |                      |               MIG M. |\n",
            "|=========================================+======================+======================|\n",
            "|   0  Tesla T4                       Off | 00000000:00:04.0 Off |                    0 |\n",
            "| N/A   62C    P8              11W /  70W |      0MiB / 15360MiB |      0%      Default |\n",
            "|                                         |                      |                  N/A |\n",
            "+-----------------------------------------+----------------------+----------------------+\n",
            "                                                                                         \n",
            "+---------------------------------------------------------------------------------------+\n",
            "| Processes:                                                                            |\n",
            "|  GPU   GI   CI        PID   Type   Process name                            GPU Memory |\n",
            "|        ID   ID                                                             Usage      |\n",
            "|=======================================================================================|\n",
            "|  No running processes found                                                           |\n",
            "+---------------------------------------------------------------------------------------+\n"
          ]
        }
      ],
      "source": [
        "!nvidia-smi"
      ]
    },
    {
      "cell_type": "code",
      "source": [
        "import torch\n",
        "torch.cuda.is_available()"
      ],
      "metadata": {
        "colab": {
          "base_uri": "https://localhost:8080/"
        },
        "id": "wRsLH1tJHL-K",
        "outputId": "4a0d2e44-19f7-4214-ec33-69f5efde3d28"
      },
      "execution_count": null,
      "outputs": [
        {
          "output_type": "execute_result",
          "data": {
            "text/plain": [
              "False"
            ]
          },
          "metadata": {},
          "execution_count": 6
        }
      ]
    },
    {
      "cell_type": "markdown",
      "source": [
        "AND"
      ],
      "metadata": {
        "id": "SW5Ici9jIrqV"
      }
    },
    {
      "cell_type": "code",
      "source": [
        "input=torch.tensor([(0,0),(0,1),(1,0),(1,1)],dtype=torch.double)\n",
        "output=torch.tensor([(0,0,0,1)],dtype=torch.double)\n",
        "weight=torch.tensor([1,1],dtype=torch.double)\n",
        "bias=torch.tensor([(-2)],dtype=torch.double)\n",
        "weight.resize_(1,2)\n",
        "and_calc=weight.mm(input.t())\n",
        "and_calc=and_calc+bias\n",
        "print(\"activation: \",and_calc)\n",
        "and_output=[[1 if i>=0 else 0 for i in x]for x in and_calc]\n",
        "print(\"AND output: \",and_output)\n",
        "mis=0\n",
        "for i in range(4):\n",
        "  if output[0][i]!=and_output[0][i]:\n",
        "    mis=mis+1\n",
        "print(\"misclassifications: \",mis)"
      ],
      "metadata": {
        "colab": {
          "base_uri": "https://localhost:8080/"
        },
        "id": "d_-Y20_EHZaH",
        "outputId": "ca66e169-89f1-4a05-bb8a-b053c01ab903"
      },
      "execution_count": null,
      "outputs": [
        {
          "output_type": "stream",
          "name": "stdout",
          "text": [
            "activation:  tensor([[-2., -1., -1.,  0.]], dtype=torch.float64)\n",
            "AND output:  [[0, 0, 0, 1]]\n",
            "misclassifications:  0\n"
          ]
        }
      ]
    },
    {
      "cell_type": "markdown",
      "source": [
        "OR"
      ],
      "metadata": {
        "id": "xy3iXDy5Iy3V"
      }
    },
    {
      "cell_type": "code",
      "source": [
        "input=torch.tensor([(0,0),(0,1),(1,0),(1,1)],dtype=torch.double)\n",
        "output=torch.tensor([(0,1,1,1)],dtype=torch.double)\n",
        "weight=torch.tensor([1,1],dtype=torch.double)\n",
        "bias=torch.tensor([(-2)],dtype=torch.double)\n",
        "weight.resize_(1,2)\n",
        "and_calc=weight.mm(input.t())\n",
        "and_calc=and_calc+bias\n",
        "print(\"activation: \",and_calc)\n",
        "and_output=[[1 if i>=0 else 0 for i in x]for x in and_calc]\n",
        "print(\"OR output: \",and_output)\n",
        "mis=0\n",
        "for i in range(4):\n",
        "  if output[0][i]!=and_output[0][i]:\n",
        "    mis=mis+1\n",
        "print(\"misclassifications: \",mis)"
      ],
      "metadata": {
        "colab": {
          "base_uri": "https://localhost:8080/"
        },
        "id": "tWDOU-JJIt0C",
        "outputId": "cc9c2396-30f3-42d2-95ea-01edc63dae61"
      },
      "execution_count": null,
      "outputs": [
        {
          "output_type": "stream",
          "name": "stdout",
          "text": [
            "activation:  tensor([[-2., -1., -1.,  0.]], dtype=torch.float64)\n",
            "OR output:  [[0, 0, 0, 1]]\n",
            "misclassifications:  2\n"
          ]
        }
      ]
    },
    {
      "cell_type": "markdown",
      "source": [
        "NAND"
      ],
      "metadata": {
        "id": "2Y3Ay4b8I_Z9"
      }
    },
    {
      "cell_type": "code",
      "source": [
        "input=torch.tensor([(0,0),(0,1),(1,0),(1,1)],dtype=torch.double)\n",
        "output=torch.tensor([(1,1,1,0)],dtype=torch.double)\n",
        "weight=torch.tensor([-1,-3],dtype=torch.double)\n",
        "bias=torch.tensor([(-2)],dtype=torch.double)\n",
        "weight.resize_(1,2)\n",
        "and_calc=weight.mm(input.t())\n",
        "and_calc=and_calc+bias\n",
        "print(\"activation: \",and_calc)\n",
        "and_output=[[1 if i>=0 else 0 for i in x]for x in and_calc]\n",
        "print(\"NAND output: \",and_output)\n",
        "mis=0\n",
        "for i in range(4):\n",
        "  if output[0][i]!=and_output[0][i]:\n",
        "    mis=mis+1\n",
        "print(\"misclassifications: \",mis)"
      ],
      "metadata": {
        "colab": {
          "base_uri": "https://localhost:8080/"
        },
        "id": "zHyEyUhjI1OA",
        "outputId": "4f79c794-67d0-485e-c7e2-0f26e24ebc2c"
      },
      "execution_count": null,
      "outputs": [
        {
          "output_type": "stream",
          "name": "stdout",
          "text": [
            "activation:  tensor([[-2., -5., -3., -6.]], dtype=torch.float64)\n",
            "NAND output:  [[0, 0, 0, 0]]\n",
            "misclassifications:  3\n"
          ]
        }
      ]
    },
    {
      "cell_type": "markdown",
      "source": [
        "XOR"
      ],
      "metadata": {
        "id": "WByiT70gJPZG"
      }
    },
    {
      "cell_type": "code",
      "source": [
        "input=torch.tensor([(0,0),(0,1),(1,0),(1,1)],dtype=torch.double)\n",
        "output=torch.tensor([(0,1,1,0)],dtype=torch.double)\n",
        "weight=torch.tensor([1,-1],dtype=torch.double)\n",
        "bias=torch.tensor([(-2)],dtype=torch.double)\n",
        "weight.resize_(1,2)\n",
        "and_calc=weight.mm(input.t())\n",
        "and_calc=and_calc+bias\n",
        "print(\"activation: \",and_calc)\n",
        "and_output=[[1 if i>=0 else 0 for i in x]for x in and_calc]\n",
        "print(\"XOR output: \",and_output)\n",
        "mis=0\n",
        "for i in range(4):\n",
        "  if output[0][i]!=and_output[0][i]:\n",
        "    mis=mis+1\n",
        "print(\"misclassifications: \",mis)"
      ],
      "metadata": {
        "colab": {
          "base_uri": "https://localhost:8080/"
        },
        "id": "QZAhPDhBJOvB",
        "outputId": "378a055b-e990-4bc8-8c4e-887fc3153cd9"
      },
      "execution_count": null,
      "outputs": [
        {
          "output_type": "stream",
          "name": "stdout",
          "text": [
            "activation:  tensor([[-2., -3., -1., -2.]], dtype=torch.float64)\n",
            "XOR output:  [[0, 0, 0, 0]]\n",
            "misclassifications:  2\n"
          ]
        }
      ]
    },
    {
      "cell_type": "markdown",
      "source": [
        "PERCEPTRON LEARNING ALGORITHM - XOR"
      ],
      "metadata": {
        "id": "281rESO0JdFi"
      }
    },
    {
      "cell_type": "code",
      "source": [
        "import torch\n",
        "import torch.nn as nn\n",
        "import torch.nn.functional as F\n",
        "inputs = torch.tensor([[0, 0], [0, 1], [1, 0], [1, 1]], dtype=torch.float)\n",
        "targets = torch.tensor([[0], [1], [1], [0]], dtype=torch.float)\n",
        "model = nn.Sequential(\n",
        "    nn.Linear(2, 2),\n",
        "    nn.ReLU(),\n",
        "    nn.Linear(2, 1),\n",
        "    nn.Sigmoid()\n",
        ")\n",
        "loss_fn = nn.BCELoss()\n",
        "optimizer = torch.optim.Adam(model.parameters(), lr=0.01)\n",
        "num_epochs = 1000\n",
        "for epoch in range(num_epochs):\n",
        "    outputs = model(inputs)\n",
        "    loss = loss_fn(outputs, targets)\n",
        "    optimizer.zero_grad()\n",
        "    loss.backward()\n",
        "    optimizer.step()\n",
        "    if epoch % 100 == 0:\n",
        "        print(f\"Epoch: {epoch+1}, Loss: {loss.item():.4f}\")\n",
        "predictions = model(inputs)\n",
        "print(\"Predictions:\")\n",
        "for i in range(4):\n",
        "    print(f\"Input: {inputs[i].tolist()}, Prediction: {predictions[i].item():.4f}\")\n"
      ],
      "metadata": {
        "colab": {
          "base_uri": "https://localhost:8080/"
        },
        "id": "YjB3SI9Ib4xb",
        "outputId": "9c66a0c4-c605-4461-958d-ff62729cf191"
      },
      "execution_count": null,
      "outputs": [
        {
          "output_type": "stream",
          "name": "stdout",
          "text": [
            "Epoch: 1, Loss: 0.8168\n",
            "Epoch: 101, Loss: 0.6933\n",
            "Epoch: 201, Loss: 0.6932\n",
            "Epoch: 301, Loss: 0.6932\n",
            "Epoch: 401, Loss: 0.6932\n",
            "Epoch: 501, Loss: 0.6932\n",
            "Epoch: 601, Loss: 0.6932\n",
            "Epoch: 701, Loss: 0.6931\n",
            "Epoch: 801, Loss: 0.6931\n",
            "Epoch: 901, Loss: 0.6931\n",
            "Predictions:\n",
            "Input: [0.0, 0.0], Prediction: 0.5000\n",
            "Input: [0.0, 1.0], Prediction: 0.4996\n",
            "Input: [1.0, 0.0], Prediction: 0.5004\n",
            "Input: [1.0, 1.0], Prediction: 0.5000\n"
          ]
        }
      ]
    },
    {
      "cell_type": "markdown",
      "source": [
        "2."
      ],
      "metadata": {
        "id": "2WWHx_jzM-kw"
      }
    },
    {
      "cell_type": "code",
      "source": [
        "import numpy as np\n",
        "import matplotlib.pyplot as plt\n",
        "def equation(x):\n",
        "    return x**2 + 5*np.sin(x)\n",
        "def gradient(x):\n",
        "    return 2*x + 5*np.cos(x)\n",
        "def gradient_descent(initial_guess, learning_rate, tolerance):\n",
        "    x = initial_guess\n",
        "    iterations = 0\n",
        "    while True:\n",
        "        x_new = x - learning_rate * gradient(x)\n",
        "        if abs(x_new - x) < tolerance:\n",
        "            break\n",
        "        x = x_new\n",
        "        iterations += 1\n",
        "    return x, iterations\n",
        "def plot_results(x_vals, y_vals, minima_x, minima_y):\n",
        "    plt.plot(x_vals, y_vals,color='r', label='Function')\n",
        "    plt.scatter(minima_x, minima_y, color='blue', label='Global Minima')\n",
        "    plt.title('Gradient Descent Optimization')\n",
        "    plt.xlabel('x')\n",
        "    plt.ylabel('f(x)')\n",
        "    plt.legend()\n",
        "    plt.show()\n",
        "initial_guess = 0.0\n",
        "learning_rate = 0.1\n",
        "tolerance = 1e-6\n",
        "minima_x, iterations = gradient_descent(initial_guess, learning_rate, tolerance)\n",
        "minima_y = equation(minima_x)\n",
        "x_vals = np.linspace(-5, 5, 100)\n",
        "y_vals = equation(x_vals)\n",
        "print(f\"Global Minima found at x = {minima_x}, f(x) = {minima_y}\")\n",
        "print(f\"Number of iterations: {iterations}\")\n",
        "plot_results(x_vals, y_vals, minima_x, minima_y)"
      ],
      "metadata": {
        "colab": {
          "base_uri": "https://localhost:8080/",
          "height": 507
        },
        "id": "xPYQVEMvGzjK",
        "outputId": "f39a1e69-002e-457d-e9fe-d4a71ec7c5cd"
      },
      "execution_count": null,
      "outputs": [
        {
          "output_type": "stream",
          "name": "stdout",
          "text": [
            "Global Minima found at x = -1.1105093598463913, f(x) = -3.2463942726873016\n",
            "Number of iterations: 14\n"
          ]
        },
        {
          "output_type": "display_data",
          "data": {
            "text/plain": [
              "<Figure size 640x480 with 1 Axes>"
            ],
            "image/png": "[encoded data removed]"
          },
          "metadata": {}
        }
      ]
    }
  ]
}